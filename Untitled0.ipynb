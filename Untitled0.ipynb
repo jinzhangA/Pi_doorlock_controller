{
 "metadata": {
  "name": "",
  "signature": "sha256:ad4da798745d2094e347e8a7692a441d472869069f696b20656794aff44f1a7b"
 },
 "nbformat": 3,
 "nbformat_minor": 0,
 "worksheets": []
}